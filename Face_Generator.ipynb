{
  "nbformat": 4,
  "nbformat_minor": 0,
  "metadata": {
    "colab": {
      "name": "Face Generator",
      "provenance": [],
      "mount_file_id": "1ky5Zmmf-d7J3UlGaxxfwWtz-YlIBww5E",
      "authorship_tag": "ABX9TyOWXIkAfrgs9uwsHZvsQM/3",
      "include_colab_link": true
    },
    "kernelspec": {
      "name": "python3",
      "display_name": "Python 3"
    },
    "language_info": {
      "name": "python"
    },
    "accelerator": "GPU"
  },
  "cells": [
    {
      "cell_type": "markdown",
      "metadata": {
        "id": "view-in-github",
        "colab_type": "text"
      },
      "source": [
        "<a href=\"https://colab.research.google.com/github/AjaybirRandhawa/Face-Generator/blob/main/Face_Generator.ipynb\" target=\"_parent\"><img src=\"https://colab.research.google.com/assets/colab-badge.svg\" alt=\"Open In Colab\"/></a>"
      ]
    },
    {
      "cell_type": "code",
      "execution_count": null,
      "metadata": {
        "colab": {
          "base_uri": "https://localhost:8080/",
          "height": 70
        },
        "id": "8_aZ0zJ0Outq",
        "outputId": "3fdbfde3-4703-4c97-8ded-23c28871d65b"
      },
      "outputs": [
        {
          "output_type": "stream",
          "name": "stdout",
          "text": [
            "TensorFlow 1.x selected.\n",
            "Drive already mounted at /content/drive/; to attempt to forcibly remount, call drive.mount(\"/content/drive/\", force_remount=True).\n"
          ]
        },
        {
          "output_type": "execute_result",
          "data": {
            "application/vnd.google.colaboratory.intrinsic+json": {
              "type": "string"
            },
            "text/plain": [
              "'/content'"
            ]
          },
          "metadata": {},
          "execution_count": 1
        }
      ],
      "source": [
        "%tensorflow_version 1.x\n",
        "from google.colab import drive\n",
        "drive.mount('/content/drive/')\n",
        "import os\n",
        "\n",
        "os.getcwd()"
      ]
    },
    {
      "cell_type": "code",
      "source": [
        "with open('/content/drive/My Drive/foo.txt', 'w') as f:\n",
        "  f.write('Hello Google Drive!')\n",
        "!cat /content/drive/My\\ Drive/foo.txt"
      ],
      "metadata": {
        "colab": {
          "base_uri": "https://localhost:8080/"
        },
        "id": "VAmtmoLmlifR",
        "outputId": "7e55b4e3-5794-4815-fead-5e3365b1bfd8"
      },
      "execution_count": null,
      "outputs": [
        {
          "output_type": "stream",
          "name": "stdout",
          "text": [
            "Hello Google Drive!"
          ]
        }
      ]
    },
    {
      "cell_type": "code",
      "source": [
        "!git clone https://github.com/NVlabs/stylegan2.git"
      ],
      "metadata": {
        "colab": {
          "base_uri": "https://localhost:8080/"
        },
        "id": "24147t4jRO4Q",
        "outputId": "036d65c9-abc2-4a9b-e646-0ca87d9e35cf"
      },
      "execution_count": null,
      "outputs": [
        {
          "output_type": "stream",
          "name": "stdout",
          "text": [
            "Cloning into 'stylegan2'...\n",
            "remote: Enumerating objects: 138, done.\u001b[K\n",
            "remote: Counting objects: 100% (11/11), done.\u001b[K\n",
            "remote: Compressing objects: 100% (7/7), done.\u001b[K\n",
            "remote: Total 138 (delta 4), reused 10 (delta 4), pack-reused 127\u001b[K\n",
            "Receiving objects: 100% (138/138), 599.47 KiB | 3.11 MiB/s, done.\n",
            "Resolving deltas: 100% (62/62), done.\n"
          ]
        }
      ]
    },
    {
      "cell_type": "code",
      "source": [
        "import sys\n",
        "sys.path.insert(0, \"/content/stylegan2\")\n",
        "import dnnlib"
      ],
      "metadata": {
        "id": "drj_Qbq2mEaJ"
      },
      "execution_count": null,
      "outputs": []
    },
    {
      "cell_type": "code",
      "source": [
        "import argparse\n",
        "import numpy as np\n",
        "import PIL.Image\n",
        "import dnnlib.tflib as tflib\n",
        "import re\n",
        "\n",
        "import pretrained_networks\n",
        "\n",
        "#Takes short seed number, expands it\n",
        "def expand_seed(seeds, vector_size):\n",
        "  results = []\n",
        "\n",
        "  #Takes the seed states and makes it into a number of the length then vectorsize from that seed state, this way we can duplicate the randomness\n",
        "  for seed in seeds:\n",
        "    rnd = np.random.RandomState(seed)\n",
        "    results.append(rnd.randn(1, vector_size))\n",
        "    \n",
        "  return results\n",
        "\n",
        "#Based on code from the nvidia git library, GS -> NN, seeds = seed vectors, truncation_psi is what stylegan2 uses to make images better res \n",
        "def generate_images(GS, seeds, truncation_psi):\n",
        "  #Noise will account for wrinkles and hair movement etc on seeds generated\n",
        "  noise_vars = [var for name, var in GS.components.synthesis.vars.items() if name.startswith('noise')]\n",
        "\n",
        "  #Converts \n",
        "  GS_kwargs = dnnlib.EasyDict()\n",
        "  GS_kwargs.output_transform = dict(func=tflib.convert_images_to_uint8, nchw_to_nhwc=True)\n",
        "  GS_kwargs.randomize_noise = False\n",
        "\n",
        "  if truncation_psi is not None:\n",
        "    GS_kwargs.truncation_psy = truncation_psi\n",
        "\n",
        "  for seed_index, seed in enumerate(seeds):\n",
        "    print('Generating image for seed %d/%d' % (seed_index, len(seeds)))\n",
        "    rnd = np.random.RandomState() #fix it so while it stays the same face, it will introduce small variations like hair placement\n",
        "    tflib.set_vars({var: rnd.randn(*var.shape.as_list()) for var in noise_vars}) #height and width of images\n",
        "    #makes images and stores them\n",
        "    images = GS.run(seed, None, **GS_kwargs) #Minibatch, height, width, channel\n",
        "    path = f\"/content/drive/My Drive/projects/tmp/image{seed_index}.png\"\n",
        "    PIL.Image.fromarray(images[0], 'RGB').save(path)"
      ],
      "metadata": {
        "id": "ubZEoAtHWJU0"
      },
      "execution_count": null,
      "outputs": []
    },
    {
      "cell_type": "code",
      "source": [
        "#Load the neural network\n",
        "sc = dnnlib.SubmitConfig()\n",
        "sc.num_gpus = 1\n",
        "sc.submit_target = dnnlib.SubmitTarget.LOCAL\n",
        "sc.local.do_not_copy_source_files = True\n",
        "sc.run_dir_root = \"/content/drive/My Drive/projects\"\n",
        "sc.run_desc = 'generate-images'\n",
        "network_pki = 'gdrive:networks/stylegan2-ffhq-config-f.pkl'\n",
        "\n",
        "print('Loading networks from %s' % network_pki)\n",
        "_G, _D, GS = pretrained_networks.load_networks(network_pki)\n",
        "vector_size = GS.input_shape[1:][0]\n",
        "seeds = expand_seed(range(8000,8020), vector_size)\n",
        "generate_images(GS, seeds, truncation_psi=0.5)"
      ],
      "metadata": {
        "colab": {
          "base_uri": "https://localhost:8080/"
        },
        "id": "0bo5jHMxZgap",
        "outputId": "dc08f0c3-33b2-41ca-b7b8-69b4558632cb"
      },
      "execution_count": null,
      "outputs": [
        {
          "output_type": "stream",
          "name": "stdout",
          "text": [
            "Loading networks from gdrive:networks/stylegan2-ffhq-config-f.pkl\n",
            "Generating image for seed 0/20\n",
            "Generating image for seed 1/20\n",
            "Generating image for seed 2/20\n",
            "Generating image for seed 3/20\n",
            "Generating image for seed 4/20\n",
            "Generating image for seed 5/20\n",
            "Generating image for seed 6/20\n",
            "Generating image for seed 7/20\n",
            "Generating image for seed 8/20\n",
            "Generating image for seed 9/20\n",
            "Generating image for seed 10/20\n",
            "Generating image for seed 11/20\n",
            "Generating image for seed 12/20\n",
            "Generating image for seed 13/20\n",
            "Generating image for seed 14/20\n",
            "Generating image for seed 15/20\n",
            "Generating image for seed 16/20\n",
            "Generating image for seed 17/20\n",
            "Generating image for seed 18/20\n",
            "Generating image for seed 19/20\n"
          ]
        }
      ]
    },
    {
      "cell_type": "code",
      "source": [
        "#Load the neural network\n",
        "sc = dnnlib.SubmitConfig()\n",
        "sc.num_gpus = 1\n",
        "sc.submit_target = dnnlib.SubmitTarget.LOCAL\n",
        "sc.local.do_not_copy_source_files = True\n",
        "sc.run_dir_root = \"/content/drive/My Drive/projects\"\n",
        "sc.run_desc = 'generate-images'\n",
        "network_pkl = 'gdrive:networks/stylegan2-ffhq-config-f.pkl'\n",
        "\n",
        "print(\"Loading networks from the %s\" % network_pkl)\n",
        "_G, _D, GS = pretrained_networks.load_networks(network_pkl)\n",
        "vector_size = GS.input_shape[1:][0]\n",
        "seeds = expand_seed([4256, 4269], vector_size)"
      ],
      "metadata": {
        "id": "UucUGG11bGzV",
        "colab": {
          "base_uri": "https://localhost:8080/"
        },
        "outputId": "34fff1c6-989c-4168-dcc9-e41d540785f0"
      },
      "execution_count": null,
      "outputs": [
        {
          "output_type": "stream",
          "name": "stdout",
          "text": [
            "Loading networks from the gdrive:networks/stylegan2-ffhq-config-f.pkl\n"
          ]
        }
      ]
    },
    {
      "cell_type": "code",
      "source": [
        "steps = 300\n",
        "diff = seeds[1] - seeds[0]\n",
        "step = diff/steps\n",
        "current = seeds[0].copy()\n",
        "\n",
        "seeds2 = []\n",
        "for i in range(steps):\n",
        "  seeds2.append(current)\n",
        "  current = current + step\n",
        "\n",
        "\n",
        "generate_images(GS, seeds2, truncation_psi=1.0)"
      ],
      "metadata": {
        "colab": {
          "base_uri": "https://localhost:8080/"
        },
        "id": "p8URGnWdo4Kf",
        "outputId": "05734bae-437d-4be4-b600-9a6a055dfa08"
      },
      "execution_count": null,
      "outputs": [
        {
          "output_type": "stream",
          "name": "stdout",
          "text": [
            "Generating image for seed 0/300\n",
            "Generating image for seed 1/300\n",
            "Generating image for seed 2/300\n",
            "Generating image for seed 3/300\n",
            "Generating image for seed 4/300\n",
            "Generating image for seed 5/300\n",
            "Generating image for seed 6/300\n",
            "Generating image for seed 7/300\n",
            "Generating image for seed 8/300\n",
            "Generating image for seed 9/300\n",
            "Generating image for seed 10/300\n",
            "Generating image for seed 11/300\n",
            "Generating image for seed 12/300\n",
            "Generating image for seed 13/300\n",
            "Generating image for seed 14/300\n",
            "Generating image for seed 15/300\n",
            "Generating image for seed 16/300\n",
            "Generating image for seed 17/300\n",
            "Generating image for seed 18/300\n",
            "Generating image for seed 19/300\n",
            "Generating image for seed 20/300\n",
            "Generating image for seed 21/300\n",
            "Generating image for seed 22/300\n",
            "Generating image for seed 23/300\n",
            "Generating image for seed 24/300\n",
            "Generating image for seed 25/300\n",
            "Generating image for seed 26/300\n",
            "Generating image for seed 27/300\n",
            "Generating image for seed 28/300\n",
            "Generating image for seed 29/300\n",
            "Generating image for seed 30/300\n",
            "Generating image for seed 31/300\n",
            "Generating image for seed 32/300\n",
            "Generating image for seed 33/300\n",
            "Generating image for seed 34/300\n",
            "Generating image for seed 35/300\n",
            "Generating image for seed 36/300\n",
            "Generating image for seed 37/300\n",
            "Generating image for seed 38/300\n",
            "Generating image for seed 39/300\n",
            "Generating image for seed 40/300\n",
            "Generating image for seed 41/300\n",
            "Generating image for seed 42/300\n",
            "Generating image for seed 43/300\n",
            "Generating image for seed 44/300\n",
            "Generating image for seed 45/300\n",
            "Generating image for seed 46/300\n",
            "Generating image for seed 47/300\n",
            "Generating image for seed 48/300\n",
            "Generating image for seed 49/300\n",
            "Generating image for seed 50/300\n",
            "Generating image for seed 51/300\n",
            "Generating image for seed 52/300\n",
            "Generating image for seed 53/300\n",
            "Generating image for seed 54/300\n",
            "Generating image for seed 55/300\n",
            "Generating image for seed 56/300\n",
            "Generating image for seed 57/300\n",
            "Generating image for seed 58/300\n",
            "Generating image for seed 59/300\n",
            "Generating image for seed 60/300\n",
            "Generating image for seed 61/300\n",
            "Generating image for seed 62/300\n",
            "Generating image for seed 63/300\n",
            "Generating image for seed 64/300\n",
            "Generating image for seed 65/300\n",
            "Generating image for seed 66/300\n",
            "Generating image for seed 67/300\n",
            "Generating image for seed 68/300\n",
            "Generating image for seed 69/300\n",
            "Generating image for seed 70/300\n",
            "Generating image for seed 71/300\n",
            "Generating image for seed 72/300\n",
            "Generating image for seed 73/300\n",
            "Generating image for seed 74/300\n",
            "Generating image for seed 75/300\n",
            "Generating image for seed 76/300\n",
            "Generating image for seed 77/300\n",
            "Generating image for seed 78/300\n",
            "Generating image for seed 79/300\n",
            "Generating image for seed 80/300\n",
            "Generating image for seed 81/300\n",
            "Generating image for seed 82/300\n",
            "Generating image for seed 83/300\n",
            "Generating image for seed 84/300\n",
            "Generating image for seed 85/300\n",
            "Generating image for seed 86/300\n",
            "Generating image for seed 87/300\n",
            "Generating image for seed 88/300\n",
            "Generating image for seed 89/300\n",
            "Generating image for seed 90/300\n",
            "Generating image for seed 91/300\n",
            "Generating image for seed 92/300\n",
            "Generating image for seed 93/300\n",
            "Generating image for seed 94/300\n",
            "Generating image for seed 95/300\n",
            "Generating image for seed 96/300\n",
            "Generating image for seed 97/300\n",
            "Generating image for seed 98/300\n",
            "Generating image for seed 99/300\n",
            "Generating image for seed 100/300\n",
            "Generating image for seed 101/300\n",
            "Generating image for seed 102/300\n",
            "Generating image for seed 103/300\n",
            "Generating image for seed 104/300\n",
            "Generating image for seed 105/300\n",
            "Generating image for seed 106/300\n",
            "Generating image for seed 107/300\n",
            "Generating image for seed 108/300\n",
            "Generating image for seed 109/300\n",
            "Generating image for seed 110/300\n",
            "Generating image for seed 111/300\n",
            "Generating image for seed 112/300\n",
            "Generating image for seed 113/300\n",
            "Generating image for seed 114/300\n",
            "Generating image for seed 115/300\n",
            "Generating image for seed 116/300\n",
            "Generating image for seed 117/300\n",
            "Generating image for seed 118/300\n",
            "Generating image for seed 119/300\n",
            "Generating image for seed 120/300\n",
            "Generating image for seed 121/300\n",
            "Generating image for seed 122/300\n",
            "Generating image for seed 123/300\n",
            "Generating image for seed 124/300\n",
            "Generating image for seed 125/300\n",
            "Generating image for seed 126/300\n",
            "Generating image for seed 127/300\n",
            "Generating image for seed 128/300\n",
            "Generating image for seed 129/300\n",
            "Generating image for seed 130/300\n",
            "Generating image for seed 131/300\n",
            "Generating image for seed 132/300\n",
            "Generating image for seed 133/300\n",
            "Generating image for seed 134/300\n",
            "Generating image for seed 135/300\n",
            "Generating image for seed 136/300\n",
            "Generating image for seed 137/300\n",
            "Generating image for seed 138/300\n",
            "Generating image for seed 139/300\n",
            "Generating image for seed 140/300\n",
            "Generating image for seed 141/300\n",
            "Generating image for seed 142/300\n",
            "Generating image for seed 143/300\n",
            "Generating image for seed 144/300\n",
            "Generating image for seed 145/300\n",
            "Generating image for seed 146/300\n",
            "Generating image for seed 147/300\n",
            "Generating image for seed 148/300\n",
            "Generating image for seed 149/300\n",
            "Generating image for seed 150/300\n",
            "Generating image for seed 151/300\n",
            "Generating image for seed 152/300\n",
            "Generating image for seed 153/300\n",
            "Generating image for seed 154/300\n",
            "Generating image for seed 155/300\n",
            "Generating image for seed 156/300\n",
            "Generating image for seed 157/300\n",
            "Generating image for seed 158/300\n",
            "Generating image for seed 159/300\n",
            "Generating image for seed 160/300\n",
            "Generating image for seed 161/300\n",
            "Generating image for seed 162/300\n",
            "Generating image for seed 163/300\n",
            "Generating image for seed 164/300\n",
            "Generating image for seed 165/300\n",
            "Generating image for seed 166/300\n",
            "Generating image for seed 167/300\n",
            "Generating image for seed 168/300\n",
            "Generating image for seed 169/300\n",
            "Generating image for seed 170/300\n",
            "Generating image for seed 171/300\n",
            "Generating image for seed 172/300\n",
            "Generating image for seed 173/300\n",
            "Generating image for seed 174/300\n",
            "Generating image for seed 175/300\n",
            "Generating image for seed 176/300\n",
            "Generating image for seed 177/300\n",
            "Generating image for seed 178/300\n",
            "Generating image for seed 179/300\n",
            "Generating image for seed 180/300\n",
            "Generating image for seed 181/300\n",
            "Generating image for seed 182/300\n",
            "Generating image for seed 183/300\n",
            "Generating image for seed 184/300\n",
            "Generating image for seed 185/300\n",
            "Generating image for seed 186/300\n",
            "Generating image for seed 187/300\n",
            "Generating image for seed 188/300\n",
            "Generating image for seed 189/300\n",
            "Generating image for seed 190/300\n",
            "Generating image for seed 191/300\n",
            "Generating image for seed 192/300\n",
            "Generating image for seed 193/300\n",
            "Generating image for seed 194/300\n",
            "Generating image for seed 195/300\n",
            "Generating image for seed 196/300\n",
            "Generating image for seed 197/300\n",
            "Generating image for seed 198/300\n",
            "Generating image for seed 199/300\n",
            "Generating image for seed 200/300\n",
            "Generating image for seed 201/300\n",
            "Generating image for seed 202/300\n",
            "Generating image for seed 203/300\n",
            "Generating image for seed 204/300\n",
            "Generating image for seed 205/300\n",
            "Generating image for seed 206/300\n",
            "Generating image for seed 207/300\n",
            "Generating image for seed 208/300\n",
            "Generating image for seed 209/300\n",
            "Generating image for seed 210/300\n",
            "Generating image for seed 211/300\n",
            "Generating image for seed 212/300\n",
            "Generating image for seed 213/300\n",
            "Generating image for seed 214/300\n",
            "Generating image for seed 215/300\n",
            "Generating image for seed 216/300\n",
            "Generating image for seed 217/300\n",
            "Generating image for seed 218/300\n",
            "Generating image for seed 219/300\n",
            "Generating image for seed 220/300\n",
            "Generating image for seed 221/300\n",
            "Generating image for seed 222/300\n",
            "Generating image for seed 223/300\n",
            "Generating image for seed 224/300\n",
            "Generating image for seed 225/300\n",
            "Generating image for seed 226/300\n",
            "Generating image for seed 227/300\n",
            "Generating image for seed 228/300\n",
            "Generating image for seed 229/300\n",
            "Generating image for seed 230/300\n",
            "Generating image for seed 231/300\n",
            "Generating image for seed 232/300\n",
            "Generating image for seed 233/300\n",
            "Generating image for seed 234/300\n",
            "Generating image for seed 235/300\n",
            "Generating image for seed 236/300\n",
            "Generating image for seed 237/300\n",
            "Generating image for seed 238/300\n",
            "Generating image for seed 239/300\n",
            "Generating image for seed 240/300\n",
            "Generating image for seed 241/300\n",
            "Generating image for seed 242/300\n",
            "Generating image for seed 243/300\n",
            "Generating image for seed 244/300\n",
            "Generating image for seed 245/300\n",
            "Generating image for seed 246/300\n",
            "Generating image for seed 247/300\n",
            "Generating image for seed 248/300\n",
            "Generating image for seed 249/300\n",
            "Generating image for seed 250/300\n",
            "Generating image for seed 251/300\n",
            "Generating image for seed 252/300\n",
            "Generating image for seed 253/300\n",
            "Generating image for seed 254/300\n",
            "Generating image for seed 255/300\n",
            "Generating image for seed 256/300\n",
            "Generating image for seed 257/300\n",
            "Generating image for seed 258/300\n",
            "Generating image for seed 259/300\n",
            "Generating image for seed 260/300\n",
            "Generating image for seed 261/300\n",
            "Generating image for seed 262/300\n",
            "Generating image for seed 263/300\n",
            "Generating image for seed 264/300\n",
            "Generating image for seed 265/300\n",
            "Generating image for seed 266/300\n",
            "Generating image for seed 267/300\n",
            "Generating image for seed 268/300\n",
            "Generating image for seed 269/300\n",
            "Generating image for seed 270/300\n",
            "Generating image for seed 271/300\n",
            "Generating image for seed 272/300\n",
            "Generating image for seed 273/300\n",
            "Generating image for seed 274/300\n",
            "Generating image for seed 275/300\n",
            "Generating image for seed 276/300\n",
            "Generating image for seed 277/300\n",
            "Generating image for seed 278/300\n",
            "Generating image for seed 279/300\n",
            "Generating image for seed 280/300\n",
            "Generating image for seed 281/300\n",
            "Generating image for seed 282/300\n",
            "Generating image for seed 283/300\n",
            "Generating image for seed 284/300\n",
            "Generating image for seed 285/300\n",
            "Generating image for seed 286/300\n",
            "Generating image for seed 287/300\n",
            "Generating image for seed 288/300\n",
            "Generating image for seed 289/300\n",
            "Generating image for seed 290/300\n",
            "Generating image for seed 291/300\n",
            "Generating image for seed 292/300\n",
            "Generating image for seed 293/300\n",
            "Generating image for seed 294/300\n",
            "Generating image for seed 295/300\n",
            "Generating image for seed 296/300\n",
            "Generating image for seed 297/300\n",
            "Generating image for seed 298/300\n",
            "Generating image for seed 299/300\n"
          ]
        }
      ]
    },
    {
      "cell_type": "code",
      "source": [
        "! ffmpeg -r 30 -i /content/drive/My\\ Drive/projects/tmp/image%d.png -vcodec mpeg4 -y /content/drive/My\\ Drive/projects/movie.mp4"
      ],
      "metadata": {
        "colab": {
          "base_uri": "https://localhost:8080/"
        },
        "id": "V97SQxsXpZxh",
        "outputId": "e608f106-a2c9-4f07-bae5-5f7957f5d9a0"
      },
      "execution_count": null,
      "outputs": [
        {
          "output_type": "stream",
          "name": "stdout",
          "text": [
            "ffmpeg version 3.4.8-0ubuntu0.2 Copyright (c) 2000-2020 the FFmpeg developers\n",
            "  built with gcc 7 (Ubuntu 7.5.0-3ubuntu1~18.04)\n",
            "  configuration: --prefix=/usr --extra-version=0ubuntu0.2 --toolchain=hardened --libdir=/usr/lib/x86_64-linux-gnu --incdir=/usr/include/x86_64-linux-gnu --enable-gpl --disable-stripping --enable-avresample --enable-avisynth --enable-gnutls --enable-ladspa --enable-libass --enable-libbluray --enable-libbs2b --enable-libcaca --enable-libcdio --enable-libflite --enable-libfontconfig --enable-libfreetype --enable-libfribidi --enable-libgme --enable-libgsm --enable-libmp3lame --enable-libmysofa --enable-libopenjpeg --enable-libopenmpt --enable-libopus --enable-libpulse --enable-librubberband --enable-librsvg --enable-libshine --enable-libsnappy --enable-libsoxr --enable-libspeex --enable-libssh --enable-libtheora --enable-libtwolame --enable-libvorbis --enable-libvpx --enable-libwavpack --enable-libwebp --enable-libx265 --enable-libxml2 --enable-libxvid --enable-libzmq --enable-libzvbi --enable-omx --enable-openal --enable-opengl --enable-sdl2 --enable-libdc1394 --enable-libdrm --enable-libiec61883 --enable-chromaprint --enable-frei0r --enable-libopencv --enable-libx264 --enable-shared\n",
            "  libavutil      55. 78.100 / 55. 78.100\n",
            "  libavcodec     57.107.100 / 57.107.100\n",
            "  libavformat    57. 83.100 / 57. 83.100\n",
            "  libavdevice    57. 10.100 / 57. 10.100\n",
            "  libavfilter     6.107.100 /  6.107.100\n",
            "  libavresample   3.  7.  0 /  3.  7.  0\n",
            "  libswscale      4.  8.100 /  4.  8.100\n",
            "  libswresample   2.  9.100 /  2.  9.100\n",
            "  libpostproc    54.  7.100 / 54.  7.100\n",
            "Input #0, image2, from '/content/drive/My Drive/projects/tmp/image%d.png':\n",
            "  Duration: 00:00:36.00, start: 0.000000, bitrate: N/A\n",
            "    Stream #0:0: Video: png, rgb24(pc), 1024x1024, 25 fps, 25 tbr, 25 tbn, 25 tbc\n",
            "Stream mapping:\n",
            "  Stream #0:0 -> #0:0 (png (native) -> mpeg4 (native))\n",
            "Press [q] to stop, [?] for help\n",
            "Output #0, mp4, to '/content/drive/My Drive/projects/movie.mp4':\n",
            "  Metadata:\n",
            "    encoder         : Lavf57.83.100\n",
            "    Stream #0:0: Video: mpeg4 (mp4v / 0x7634706D), yuv420p, 1024x1024, q=2-31, 200 kb/s, 30 fps, 15360 tbn, 30 tbc\n",
            "    Metadata:\n",
            "      encoder         : Lavc57.107.100 mpeg4\n",
            "    Side data:\n",
            "      cpb: bitrate max/min/avg: 0/0/200000 buffer size: 0 vbv_delay: -1\n",
            "frame=  900 fps= 35 q=31.0 Lsize=    3214kB time=00:00:29.96 bitrate= 878.6kbits/s speed=1.17x    \n",
            "video:3209kB audio:0kB subtitle:0kB other streams:0kB global headers:0kB muxing overhead: 0.146248%\n"
          ]
        }
      ]
    },
    {
      "cell_type": "code",
      "source": [
        "! file.download(/content/drive/My\\ Drive/projects/movie.mp4)"
      ],
      "metadata": {
        "colab": {
          "base_uri": "https://localhost:8080/"
        },
        "id": "FXQ_F8WQxGGE",
        "outputId": "e765e9de-6ed0-4612-b2e3-698aeb69edc5"
      },
      "execution_count": null,
      "outputs": [
        {
          "output_type": "stream",
          "name": "stdout",
          "text": [
            "/bin/bash: -c: line 0: syntax error near unexpected token `/content/drive/My\\ Drive/projects/movie.mp4'\n",
            "/bin/bash: -c: line 0: ` file.download(/content/drive/My\\ Drive/projects/movie.mp4)'\n"
          ]
        }
      ]
    }
  ]
}
